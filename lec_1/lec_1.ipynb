{
 "cells": [
  {
   "cell_type": "markdown",
   "id": "92a00264",
   "metadata": {},
   "source": [
    "### Занятие 1. Работа с API\n",
    "\n",
    "#### 🛠️ С чего начинается работа с данными\n",
    "\n",
    "1. **Поиск и погружение.** Найти источник данных и глубоко погрузиться в предметную область. Важно понять: как, кем и откуда заполняются данные, каков их смысл и объём.\n",
    "\n",
    "2. **Оценка и очистка.** Оценить аномалии в датасете и, при необходимости, провести его очистку. Это основа для любого дальнейшего анализа.\n",
    "\n",
    "#### 📊 Источники ошибок в данных\n",
    "\n",
    "- **Ввод данных:** Человеческий фактор, опечатки, невнимательность при ручном заполнении.\n",
    "- **Генерация данных:** Сбои в работе сенсоров, алгоритмов или скриптов, создающих данные.\n",
    "- **Перенос данных:** Ошибки при интеграции, миграции или выгрузке данных из одной системы в другую.\n",
    "- **Обработка данных:** Некорректные преобразования, агрегации или применение бизнес-логики.\n",
    "\n",
    "#### 🔍 Частые проблемы, решаемые на этапе очистки\n",
    "\n",
    "- Дубликаты: Полностью или частично повторяющиеся записи.\n",
    "- Пропущенные значения: Отсутствующие данные (NaN, NULL, пустые строки).\n",
    "- Некорректные типы данных: Числа, сохранённые как текст, даты в нераспознаваемом формате.\n",
    "- Неактуальные записи: Удалённые или устаревшие данные, которые всё ещё присутствуют в наборе.\n",
    "- Разный формат данных: Неединый стандарт представления (даты, номера телефонов, регистр текста).\n",
    "\n",
    "#### 📚 Материалы для самообучения\n",
    "- [Практическое руководство по предобработке данных](https://habr.com/ru/post/718708/) — Habr\n",
    "- [Очистка данных с помощью Python: полное руководство](https://techrocks.ru/2020/04/02/data-cleaning-with-python/) — TechRocks\n",
    "- [Сборник полезных методов для очистки данных в Pandas](https://habr.com/ru/post/349860/) — Habr"
   ]
  },
  {
   "cell_type": "code",
   "execution_count": null,
   "id": "b8523703",
   "metadata": {},
   "outputs": [],
   "source": [
    "!pip install pandas requests xlsxwriter"
   ]
  },
  {
   "cell_type": "code",
   "execution_count": null,
   "id": "16173cb9",
   "metadata": {},
   "outputs": [],
   "source": [
    "from IPython.core.interactiveshell import InteractiveShell\n",
    "InteractiveShell.ast_node_interactivity = \"all\"\n",
    "import warnings\n",
    "\n",
    "warnings.filterwarnings('ignore')"
   ]
  },
  {
   "cell_type": "code",
   "execution_count": null,
   "id": "d09e4d48",
   "metadata": {},
   "outputs": [],
   "source": [
    "import json\n",
    "import pandas as pd\n",
    "import xlsxwriter"
   ]
  },
  {
   "cell_type": "markdown",
   "id": "3d1d8fb8",
   "metadata": {},
   "source": [
    "### Часть 1. Введение в очистку данных\n",
    "- Для менеджеров по продажам выгрузить в excel телефоны, которые клиенты оставляли при регистрации в январе на онлайн-конференцию. \n",
    "- Данные лежат в file1.csv"
   ]
  },
  {
   "cell_type": "code",
   "execution_count": null,
   "id": "7b81e703",
   "metadata": {},
   "outputs": [],
   "source": [
    "# Загрузка данных \n",
    "data = pd.read_csv('file1.csv', index_col=0, sep=';')"
   ]
  },
  {
   "cell_type": "markdown",
   "id": "8d1f142b",
   "metadata": {},
   "source": [
    "Шаг 1. Знакомство с данными.\n",
    "\n",
    "- df.head() - посмотреть первые несколько строк\n",
    "- df.sample() - посмотреть случайные строки\n",
    "- df.info() - получить общую информацию о данных\n",
    "- df.describe() - получить статистическое описание числовых данных\n",
    "- df.dtypes - посмотреть типы данных всех столбцов"
   ]
  },
  {
   "cell_type": "code",
   "execution_count": null,
   "id": "c5435ca5",
   "metadata": {},
   "outputs": [],
   "source": [
    "# Вывести топ 10 строк датасета"
   ]
  },
  {
   "cell_type": "code",
   "execution_count": null,
   "id": "934189f2",
   "metadata": {},
   "outputs": [],
   "source": [
    "# Вывести случайный сэмпл из 20 строк данных"
   ]
  },
  {
   "cell_type": "code",
   "execution_count": null,
   "id": "79b3844d",
   "metadata": {},
   "outputs": [],
   "source": [
    "# Вывести сводную информация о датасете"
   ]
  },
  {
   "cell_type": "markdown",
   "id": "e4ad97e3",
   "metadata": {},
   "source": [
    "Шаг 2. Основные функции для конвертации типов данных:\n",
    "\n",
    "1. astype()\n",
    "- Пример: df['column'] = df['column'].astype('int64')\n",
    "- Пример: df['price'] = df['price'].astype('float')\n",
    "\n",
    "2. pd.to_numeric()\n",
    "- Пример: df['age'] = pd.to_numeric(df['age'], errors='coerce')\n",
    "- Пример: df['score'] = pd.to_numeric(df['score'], downcast='integer')\n",
    "\n",
    "3. [pd.to_datetime()](https://pandas.pydata.org/pandas-docs/stable/reference/api/pandas.to_datetime.html)\n",
    "- Пример: df['date'] = pd.to_datetime(df['date_column'])\n",
    "- Пример: df['timestamp'] = pd.to_datetime(df['time_string'], format='%Y-%m-%d %H:%M:%S')\n",
    "\n",
    "4. pd.to_timedelta()\n",
    "- Пример: df['duration'] = pd.to_timedelta(df['minutes'], unit='m')\n",
    "- Пример: df['time_diff'] = pd.to_timedelta(df['hours'], unit='h')"
   ]
  },
  {
   "cell_type": "code",
   "execution_count": null,
   "id": "86597e24",
   "metadata": {},
   "outputs": [],
   "source": [
    "# Сконвертировать RegistrationDate в датавремя"
   ]
  },
  {
   "cell_type": "code",
   "execution_count": null,
   "id": "75964f70",
   "metadata": {},
   "outputs": [],
   "source": [
    "# Переименовать UserId -> userid, Phone -> phone, RegistrationDate -> registration\n",
    "# --> df.rename(columns = {' old_col1 ':' new_col1', 'old_col2 ':' new_col2 '}, inplace = True )"
   ]
  },
  {
   "cell_type": "markdown",
   "id": "f7b6ab0c",
   "metadata": {},
   "source": [
    "Шаг 3. Фильтруем регистрации за январь и запишем в df_jan\n",
    "\n",
    "- в реальной задаче фильтровать период записей лучше на 1 шаге импорта из БД или при подключении к API для сокращения объёма данных в df\n",
    "- фильтруем, т.к. убедились в отсутствии пустых значений для дат регистрации в ConfPhones.info()\n",
    "- нет смысла очищать весь датасет, когда нужен конкретный период\n",
    "\n",
    "Основные способы фильтрации df:\n",
    "\n",
    "1. df[df['column'] > 10] \n",
    "- Пример: df[df['age'] > 18]\n",
    "- Пример с несколькими условиями: df[(df['age'] > 18) & (df['city'] == 'Москва')]\n",
    "\n",
    "2. df.query('column > 10')\n",
    "- Пример: df.query('age > 18')\n",
    "- Пример с несколькими условиями: df.query('age > 18 and city == \"Москва\"')\n",
    "\n",
    "3. df.isin([value1, value2])\n",
    "- Пример: df[df['city'].isin(['Москва', 'Санкт-Петербург'])]\n",
    "- Пример: df[df['status'].isin([1, 3, 5])]"
   ]
  },
  {
   "cell_type": "code",
   "execution_count": null,
   "id": "c80f248c",
   "metadata": {},
   "outputs": [],
   "source": [
    "# Равноцельные примеры фильтрации: \n",
    "data[(data.registration >= '2023-01-01') & (data.registration <= '2023-01-31')].head(5)\n",
    "data.query('registration >= \"2023-01-01\" and registration <= \"2023-01-31\"').head(5) # <-- внимательно к разным типам скобочек"
   ]
  },
  {
   "cell_type": "code",
   "execution_count": null,
   "id": "50cd86a2",
   "metadata": {},
   "outputs": [],
   "source": [
    "# Регистрации в январе сохранить в df_jan"
   ]
  },
  {
   "cell_type": "markdown",
   "id": "1d7a8c6d",
   "metadata": {},
   "source": [
    "Шаг 4. Работа с пропусками\n",
    "\n",
    "Если в данных обнаружены пропуски (NAN, None), важно оценить их количество, и, если пропусков много попытаться понять природу их возникновения.\n",
    "\n",
    "Что можно делать с пропусками:\n",
    "- восстановить данные из первоисточника\n",
    "- восстановить данные самостоятельно  \n",
    "- заполнить дефолтным значением\n",
    "- удалить записи с пропусками\n",
    "- исключить колонку с пропусками из задачи\n",
    "\n",
    "Пропуски могут маскироваться под пустые строки!\n",
    "\n",
    "Функции для поиска пустых значений:\n",
    "- df.isna() - поиск пропущенных значений (isnull = isna)\n",
    "- df.notna() - поиск непустых значений\n",
    "- df.isnull() - синоним для isna()\n",
    "- df['column'].isna().sum() - подсчет пропусков в столбце\n",
    "- df.fillna(value) - заполнение пропусков значением\n",
    "- df.dropna() - удаление строк с пропусками"
   ]
  },
  {
   "cell_type": "code",
   "execution_count": null,
   "id": "7741df31",
   "metadata": {},
   "outputs": [],
   "source": [
    "# Вывести статистику пропусков в df_jan"
   ]
  },
  {
   "cell_type": "code",
   "execution_count": null,
   "id": "1ea0bc15",
   "metadata": {},
   "outputs": [],
   "source": [
    "# Вывести строки, если есть хотя бы один пропуск в любом поле (используй any(axis = 1))"
   ]
  },
  {
   "cell_type": "markdown",
   "id": "cdb657d3",
   "metadata": {},
   "source": [
    "- Удалим строки с пустыми телефонами, т.к. выгрузка нужна для обзвона, без телефона запись бесполезна.\n",
    "- Один из вариантов не удалять строки, а записывать в отдельный df для аномалий и передавать вместе с основной выгрузкой заказчику."
   ]
  },
  {
   "cell_type": "code",
   "execution_count": null,
   "id": "e15ee30c",
   "metadata": {},
   "outputs": [],
   "source": [
    "# Запишем строки с пустым phone в df_anomaly\n",
    "\n",
    "# Запишем строки с непустым phone в  df_clean"
   ]
  },
  {
   "cell_type": "markdown",
   "id": "bceee401",
   "metadata": {},
   "source": [
    "Шаг 5. Проверяем дубли (повторяющиеся строки и подстроки в данных)\n",
    "\n",
    "Полезные функции:\n",
    "- df.duplicated()\n",
    "- df.drop_duplicates() \n",
    "- df.fillna('value')"
   ]
  },
  {
   "cell_type": "code",
   "execution_count": null,
   "id": "8fbed93a",
   "metadata": {},
   "outputs": [],
   "source": [
    "# Вывести количество полных дублей по всем колонкам в df_clean"
   ]
  },
  {
   "cell_type": "markdown",
   "id": "a3589fdf",
   "metadata": {},
   "source": [
    "- data.duplicated() -> выводит ПЕРВОЕ вхождение дубля. \n",
    "- data.duplicated(keep=False) -> выводит ВСЕ вхождения дубля"
   ]
  },
  {
   "cell_type": "code",
   "execution_count": null,
   "id": "4b047570",
   "metadata": {},
   "outputs": [],
   "source": [
    "# Вывести записи - полные дубли по всем колонкам"
   ]
  },
  {
   "cell_type": "code",
   "execution_count": null,
   "id": "730807fc",
   "metadata": {},
   "outputs": [],
   "source": [
    "# Сохранить дубли в df_anomaly (используй pd.concat([df1, df2])) "
   ]
  },
  {
   "cell_type": "code",
   "execution_count": null,
   "id": "cd30a9ab",
   "metadata": {},
   "outputs": [],
   "source": [
    "# Удалить дубли из df_clean"
   ]
  },
  {
   "cell_type": "code",
   "execution_count": null,
   "id": "b2b83d80",
   "metadata": {},
   "outputs": [],
   "source": [
    "# Вывести количество дублей по телефонам (на прозвон не стоит отдавать один и тот же телефон несколько раз)\n",
    "# используй duplicated(subset = ...)"
   ]
  },
  {
   "cell_type": "code",
   "execution_count": null,
   "id": "6b7118ca",
   "metadata": {},
   "outputs": [],
   "source": [
    "# Видим, что телефоны - фейк"
   ]
  },
  {
   "cell_type": "code",
   "execution_count": null,
   "id": "0e4106f0",
   "metadata": {},
   "outputs": [],
   "source": [
    "# Запишем их в аномалии и удалим из df_clean"
   ]
  },
  {
   "cell_type": "code",
   "execution_count": null,
   "id": "c677b355",
   "metadata": {},
   "outputs": [],
   "source": [
    "# Аналогичным способом посмотреть дубли по userid"
   ]
  },
  {
   "cell_type": "markdown",
   "id": "e054404d",
   "metadata": {},
   "source": [
    "Шаг 6. Записываем выгрузку в excel файл"
   ]
  },
  {
   "cell_type": "code",
   "execution_count": null,
   "id": "266cf51c",
   "metadata": {},
   "outputs": [],
   "source": [
    "# Запись с помощью ExcelWriter\n",
    "with pd.ExcelWriter('несколько_листов.xlsx') as writer:\n",
    "    df1.to_excel(writer, sheet_name='Первый', index=False)\n",
    "    df2.to_excel(writer, sheet_name='Второй', index=False)\n",
    "\n",
    "# Запись с помощью pandas\n",
    "df.to_excel('файл.xlsx', sheet_name='Данные', index=False)"
   ]
  },
  {
   "cell_type": "code",
   "execution_count": null,
   "id": "889299e6",
   "metadata": {},
   "outputs": [],
   "source": [
    "# Ваше решение\n"
   ]
  },
  {
   "cell_type": "markdown",
   "id": "9a8b1b53",
   "metadata": {},
   "source": [
    "Поздравляю, вы завершили работу над задачей !"
   ]
  },
  {
   "attachments": {
    "image.png": {
     "image/png": "[encoded data removed]"
    },
    "Рисунок1.png": {
     "image/png": "[encoded data removed]"
    }
   },
   "cell_type": "markdown",
   "id": "d0ecfe22",
   "metadata": {},
   "source": [
    "### Часть 2. Работа с API\n",
    "\n",
    "Что такое API и как оно работает?\n",
    "\n",
    "**API (Application Programming Interface)** — это программный интерфейс приложений, набор инструкций, который позволяет разным приложениям общаться между собой. Ключевая идея проста: API позволяет разработчикам, аналитикам и всем интересующимся использовать готовые возможности других сервисов для получения необходимых данных\n",
    "\n",
    "**Принцип работы API прост**:\n",
    "1. Сторонний разработчик пишет какое-то своё приложение, функцию, операционную систему.\n",
    "2. Он составляет API — набор правил, на основе которых другие разработчики могут использовать его разработку тем или иным способом.\n",
    "3. Вы получаете этот API — он либо лежит в публичном доступе, либо открывается по запросу для клиентов.\n",
    "4. Вы вызываете API внутри своего приложения и пользуетесь нужными вам функциями.\n",
    "\n",
    "![Рисунок1.png](attachment:Рисунок1.png)\n",
    "\n",
    "**Формат передачи данных через API**:\n",
    "- XML — расширяемый язык разметки. Редко используется в публичных API.\n",
    "- JSON — текстовый формат обмена данными, основанный на JavaScript.  \n",
    "\n",
    "**Что это за JSON такой?**\n",
    "\n",
    "В качестве значений в JSON могут быть использованы: JSON-объекты, массивы, числа, литералы (true, false, null), строки и многое другое. \n",
    "\n",
    "Json-объект — это неупорядоченное множество пар «ключ:значение», заключённое в фигурные скобки «{ }».\n",
    "\n",
    "- Ключ — это название параметра, который возращает нам сервер, или который мы передаем ему\n",
    "- Значение — данные, которые мы передаем или которые нам возращает сервер \n",
    "- Ключ описывается строкой, между ним и значением стоит символ «:». \n",
    "- Пары ключ-значение отделяются друг от друга запятыми.\n",
    "\n",
    "![image.png](attachment:image.png)\n",
    "\n",
    "**Читать подробнее:**\n",
    "\n",
    "- Что такое JSON - https://habr.com/ru/articles/554274/#json_elems\n",
    "- Что такое API - https://habr.com/ru/articles/464261/ "
   ]
  },
  {
   "cell_type": "markdown",
   "id": "2d7155c2",
   "metadata": {},
   "source": [
    "**Шаг 1. Подключение к открытым API**\n",
    "\n",
    "- requests - библиотека в Python для работы с HTTP-запросами\n",
    "\n",
    "Основные методы:\n",
    "\n",
    "- GET - получить данные\n",
    "  r = requests.get('https://api.example.com/data')\n",
    "\n",
    "- POST - отправить данные\n",
    "  r = requests.post('https://api.example.com/users', json={'name': 'John'})\n",
    "\n",
    "- PUT - обновить данные\n",
    "  r = requests.put('https://api.example.com/users/1', json={'name': 'Bob'})\n",
    "\n",
    "- DELETE - удалить данные\n",
    "  r = requests.delete('https://api.example.com/users/1')\n",
    "\n",
    "- PATCH - частичное обновление\n",
    "  r = requests.patch('https://api.example.com/users/1', json={'name': 'Alice'})\n",
    "\n",
    "Полезные атрибуты ответа:\n",
    "- r.status_code - код статуса ответа\n",
    "- r.json() - декодировать JSON ответ\n",
    "- r.text - получить текст ответа\n",
    "- r.headers - заголовки ответа"
   ]
  },
  {
   "cell_type": "code",
   "execution_count": null,
   "id": "ad54b307",
   "metadata": {},
   "outputs": [],
   "source": [
    "# Пример подключения \n",
    "import requests\n",
    "\n",
    "data = requests.get('https://jsonplaceholder.typicode.com/users/1')\n",
    "data"
   ]
  },
  {
   "cell_type": "markdown",
   "id": "7c664303",
   "metadata": {},
   "source": [
    "**Краткий перечень кодов состояния HTTP**:\n",
    "- 200 - Успешный запрос (всё в порядке)\n",
    "- 400 - Ошибка со стороны клиента (например, код 404 - страница не найдена, так как запрос некорректен)\n",
    "- 500 - Ошибка со стороны сервера (API или платформы)"
   ]
  },
  {
   "cell_type": "markdown",
   "id": "123e23f0",
   "metadata": {},
   "source": [
    "**Шаг 2. Работа с HeadHunter API**\n",
    "\n",
    "- HeadHunter API - открытый API популярного сайта по поиску работы \n",
    "- Официальная документация: https://dev.hh.ru/\n",
    "- В бесплатной версии API позволяет выгрузить информацию о компаниях-работодателях (employers) и об актуальных вакансиях (vacancies)"
   ]
  },
  {
   "cell_type": "code",
   "execution_count": null,
   "id": "aacbf2e9",
   "metadata": {},
   "outputs": [],
   "source": [
    "page = 1 # номер страницы результатов\n",
    "per_page = 2 # количество вакансий на странице\n",
    "search_queries = '!Аналитик' # поисковой запрос \n",
    "\n",
    "url = 'https://api.hh.ru//vacancies'\n",
    "params = {\n",
    "    'page': page, \n",
    "    'per_page': per_page, \n",
    "    'text': search_queries\n",
    "}\n",
    "\n",
    "response = requests.get(url, params=params)\n",
    "data_json = response.json()"
   ]
  },
  {
   "cell_type": "markdown",
   "id": "35615c4a",
   "metadata": {},
   "source": [
    "**Задача. Поиск релевантных кандидатов**\n",
    "\n",
    "- **Контекст**: Вы — аналитик данных в отделе HR в компании ООО \"Hollow Knight\". Руководитель дал Вам поручение проанализировать рынок вакансии. \n",
    "\n",
    "- **Задача**: Проанализировать вакансии на HH.RU на позицию \"Аналитик данных\". \n",
    "\n",
    "- **Требования**: \n",
    "1. Проживание / работа в Москве.\n",
    "2. Полная занятость.\n",
    "3. ЗП от 40 000 рублей.\n",
    "4. В вакансии обязательно должен быть указан адресс!\n",
    "5. Тестовое количество вакансий для выгрузки составляет 75 позиций.\n",
    "\n",
    "- **Какие данные выгрузить**: \n",
    "1. Id вакансии\n",
    "2. Название вакансии\n",
    "3. Город проживания / работы + адресс \n",
    "4. Тип занятости \n",
    "5. ЗП ожидания (от ...)\n",
    "6. В отдельный файл выгрузить требования к кандидатам --> requirements_vacancy.csv\n",
    "\n",
    "- Выходные файлы сохранить в формате csv. \n",
    "- Подсказка: data['test'] = [i['name'] for i in data.area]"
   ]
  },
  {
   "cell_type": "code",
   "execution_count": null,
   "id": "2d8cfbbe",
   "metadata": {},
   "outputs": [],
   "source": [
    "# Создадим функцию для поиска вакансии \n",
    "\n",
    "def get_vacancies(search_query, page=0, per_page=100):\n",
    "    url = 'https://api.hh.ru/vacancies'\n",
    "    params = {\n",
    "        'text': search_query,\n",
    "        'page': page,\n",
    "        'per_page': per_page,\n",
    "        'only_with_salary': True,   # Только с указанной зарплатой,\n",
    "        'additional_case': 'в Москве'  # Выбор региона\n",
    "    }\n",
    "    \n",
    "    response = requests.get(url, params=params)\n",
    "    return response.json()"
   ]
  },
  {
   "cell_type": "code",
   "execution_count": null,
   "id": "06dea112",
   "metadata": {},
   "outputs": [],
   "source": [
    "# Выполним поиск через API\n",
    "data_analysis = get_vacancies(\n",
    "    search_query='!Аналитик данных', \n",
    "    per_page=75\n",
    ")\n",
    "\n",
    "# Создадим DataFrame. Нужные данные лежат в ключе \"items\" json-обьекта\n",
    "df_analysis = pd.DataFrame(data_analysis['items'])"
   ]
  },
  {
   "cell_type": "code",
   "execution_count": null,
   "id": "b10ae6ec",
   "metadata": {},
   "outputs": [],
   "source": [
    "# В созданном DataFrame много не нужных нам колонок.\n",
    "# Оставим -> id, name, area (проверить город вакансии), salary(проверить ЗП), address, snippet (проверить требования к кандидатам), schedule(проверить тип занятости)"
   ]
  },
  {
   "cell_type": "markdown",
   "id": "77dcebc9",
   "metadata": {},
   "source": [
    "Начнем проверять наши данные на соответствие требованиям, указанным в задании"
   ]
  },
  {
   "cell_type": "markdown",
   "id": "49b82689",
   "metadata": {},
   "source": [
    "1. В вакансии должен быть указан адресс. Проверим это"
   ]
  },
  {
   "cell_type": "code",
   "execution_count": null,
   "id": "6838c0f8",
   "metadata": {},
   "outputs": [],
   "source": []
  },
  {
   "cell_type": "markdown",
   "id": "d6486bb2",
   "metadata": {},
   "source": [
    "2. Теперь наша цель - определить город, в котором открыта вакансия. Это должна быть Москва. Необходимые данные хранятся в data.area"
   ]
  },
  {
   "cell_type": "code",
   "execution_count": null,
   "id": "248aa93a",
   "metadata": {},
   "outputs": [],
   "source": [
    "# Создайте отдельный столбец с городами и отфильтруйте результат"
   ]
  },
  {
   "cell_type": "markdown",
   "id": "ba1807cc",
   "metadata": {},
   "source": [
    "3. Найдем вакансии с полной занятостью (\"полный день\"). Данные приведены в data.schedule"
   ]
  },
  {
   "cell_type": "code",
   "execution_count": null,
   "id": "51e99336",
   "metadata": {},
   "outputs": [],
   "source": []
  },
  {
   "cell_type": "markdown",
   "id": "78705fda",
   "metadata": {},
   "source": [
    "4. Какую ЗП готовы предложить работодатели? Нам нужен НИЖНИЙ порог для заработной платы ('from': ...). Если его нет, то мы не рассматриваем вакансию. Информация в data.salary"
   ]
  },
  {
   "cell_type": "code",
   "execution_count": null,
   "id": "ac80c5c7",
   "metadata": {},
   "outputs": [],
   "source": []
  },
  {
   "cell_type": "markdown",
   "id": "a6019788",
   "metadata": {},
   "source": [
    "5. Отлично! Мы выполнили все требования по подбору вакансии. Давайте завершим анализ: удалим ненужные нам столбики, запишем требования к кандидатам в отдельный файл\n",
    "\n",
    "- Подсказка: df.to_csv('data.csv', index=False)"
   ]
  },
  {
   "cell_type": "code",
   "execution_count": null,
   "id": "d035ca4f",
   "metadata": {},
   "outputs": [],
   "source": [
    "# Раскроем требования к кандидатам для лучшей читаемости. В итоговый файл запишем ID вакансии + требования\n",
    "\n",
    "# Почистим колонки, которые нам не нужны. В файл запишем: ID, название вакансии, название города, график работы, ЗП"
   ]
  },
  {
   "cell_type": "markdown",
   "id": "7ed1f9ab",
   "metadata": {},
   "source": [
    "**Мы справились!**"
   ]
  }
 ],
 "metadata": {
  "kernelspec": {
   "display_name": "venv",
   "language": "python",
   "name": "python3"
  },
  "language_info": {
   "codemirror_mode": {
    "name": "ipython",
    "version": 3
   },
   "file_extension": ".py",
   "mimetype": "text/x-python",
   "name": "python",
   "nbconvert_exporter": "python",
   "pygments_lexer": "ipython3",
   "version": "3.10.0"
  }
 },
 "nbformat": 4,
 "nbformat_minor": 5
}
